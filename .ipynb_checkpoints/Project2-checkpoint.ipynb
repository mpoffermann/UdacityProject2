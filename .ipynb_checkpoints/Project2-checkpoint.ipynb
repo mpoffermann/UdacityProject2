{
 "cells": [
  {
   "cell_type": "code",
   "execution_count": 9,
   "id": "5ac94a99-b3cb-4f3e-bcdc-b8f2c259519a",
   "metadata": {},
   "outputs": [
    {
     "name": "stdout",
     "output_type": "stream",
     "text": [
      "/Users/micahprice-offermann/Downloads\n",
      "['Discord.dmg', 'Kuo-toa_whip-5e copy.jpg', 'Kuo-toa_whip-5e.webp', 'PriceOffermann (89).jpg', '.DS_Store', '.localized', 'dmg-2022-01-05_09-18am', 'Kuo-Toa Whip.webp', 'Install League of Legends na.app', 'pycharm-community-2021.3.1.dmg', 'ProtonVPN_mac_v2.2.3.dmg', 'Kuo-Toa Whip copy.jpg', 'dmg-2022-01-05_09-18am.zip', 'iTerm2-3_4_15.zip', 'iTerm.app', 'aa6b4419abfe7a7ac39c39d4d7ac17fb.jpeg', 'steam.dmg', 'Firefox 95.0.2.dmg', 'Install League of Legends na.zip']\n"
     ]
    }
   ],
   "source": [
    "import pandas as pd\n",
    "import numpy as np\n",
    "import seaborn as sns\n",
    "import matplotlib.pyplot as plt\n",
    "import matplotlib\n",
    "import openpyxl\n",
    "#% matplotlib inline\n",
    "import os\n",
    "\n",
    "os.chdir('/Users/micahprice-offermann/Downloads')\n",
    "print(os.getcwd())\n",
    "print(os.listdir())\n",
    "#cn_df = pd.read_csv('U.S. Census Data.csv')\n",
    "#print(cn_df.dtypes)\n",
    "#gd_df = pd.read_excel('gun_data.xlsx',engine='openpyxl')\n",
    "#cn_df.head()"
   ]
  },
  {
   "cell_type": "code",
   "execution_count": null,
   "id": "645eb76e-f199-490c-ba78-834b01672f77",
   "metadata": {},
   "outputs": [],
   "source": []
  }
 ],
 "metadata": {
  "kernelspec": {
   "display_name": "Python 3 (ipykernel)",
   "language": "python",
   "name": "python3"
  },
  "language_info": {
   "codemirror_mode": {
    "name": "ipython",
    "version": 3
   },
   "file_extension": ".py",
   "mimetype": "text/x-python",
   "name": "python",
   "nbconvert_exporter": "python",
   "pygments_lexer": "ipython3",
   "version": "3.9.12"
  }
 },
 "nbformat": 4,
 "nbformat_minor": 5
}
